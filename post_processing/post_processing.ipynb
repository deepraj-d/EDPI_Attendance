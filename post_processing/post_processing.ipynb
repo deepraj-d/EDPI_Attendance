{
 "cells": [
  {
   "cell_type": "code",
   "execution_count": 1,
   "id": "069e1193-850b-4fa6-a55e-ad827e1d66f4",
   "metadata": {},
   "outputs": [],
   "source": [
    "import os\n",
    "import pandas as pd\n",
    "os.listdir()\n",
    "os.chdir(\"../\")"
   ]
  },
  {
   "cell_type": "code",
   "execution_count": 2,
   "id": "b1d649e0-286f-4368-b808-6e91ab0ac9bb",
   "metadata": {},
   "outputs": [],
   "source": [
    "df = pd.read_csv('sample.csv')"
   ]
  },
  {
   "cell_type": "code",
   "execution_count": 6,
   "id": "89c2afdd-51f4-40c5-a572-67cbfc610dd6",
   "metadata": {},
   "outputs": [
    {
     "data": {
      "text/plain": [
       "array([0.941, 0.945, 0.944, 0.943, 0.942, 0.946, 0.957, 0.947, 0.95 ,\n",
       "       0.948, 0.951, 0.94 , 0.959, 0.953, 0.952, 0.949, 0.955, 0.956,\n",
       "       0.964, 0.954, 0.958, 0.96 ])"
      ]
     },
     "execution_count": 6,
     "metadata": {},
     "output_type": "execute_result"
    }
   ],
   "source": [
    "df['name'].unique()"
   ]
  },
  {
   "cell_type": "code",
   "execution_count": 20,
   "id": "48b551ca-314e-489c-a782-991b9e533e9c",
   "metadata": {},
   "outputs": [],
   "source": [
    "df = pd.read_csv('sample.csv')\n",
    "person_wise_dfs = {name: df[df['name'] == name] for name in df['name'].unique()}"
   ]
  },
  {
   "cell_type": "code",
   "execution_count": 21,
   "id": "d530c9db-2a1c-486c-a819-8442983711e9",
   "metadata": {},
   "outputs": [],
   "source": [
    "entry_time = person_wise_dfs['deepraj'].sort_values(by='score').iloc[0,-1]"
   ]
  },
  {
   "cell_type": "code",
   "execution_count": 25,
   "id": "725734ab-324a-41a1-8052-55c4923ff99e",
   "metadata": {},
   "outputs": [
    {
     "name": "stdout",
     "output_type": "stream",
     "text": [
      "Mohit 15:43:55\n",
      "shaurya 15:44:07\n",
      "vijval 15:44:16\n",
      "deepraj 15:44:24\n",
      "lovepreet 15:44:34\n",
      "deepak 15:44:48\n",
      "paras 15:45:00\n",
      "aarti 15:45:21\n",
      "ravi 15:45:27\n",
      "aman 15:45:41\n",
      "shreyanshi 15:45:54\n",
      "rakhi 15:45:50\n",
      "koyna 15:45:59\n"
     ]
    }
   ],
   "source": [
    "for n in df['name'].unique():\n",
    "    entry_time = person_wise_dfs[n].sort_values(by='score').iloc[0,-1]\n",
    "\n",
    "    print(n,entry_time)"
   ]
  },
  {
   "cell_type": "code",
   "execution_count": null,
   "id": "7a976177-aa12-4d9c-a45d-b7828a3475e4",
   "metadata": {},
   "outputs": [],
   "source": []
  },
  {
   "cell_type": "code",
   "execution_count": null,
   "id": "2d845d89-e9c4-4173-95c4-8eb3d327de78",
   "metadata": {},
   "outputs": [],
   "source": []
  },
  {
   "cell_type": "code",
   "execution_count": null,
   "id": "d2bc8677-910e-470a-a9ce-d0ae76d1e231",
   "metadata": {},
   "outputs": [],
   "source": []
  }
 ],
 "metadata": {
  "kernelspec": {
   "display_name": "Python 3 (ipykernel)",
   "language": "python",
   "name": "python3"
  },
  "language_info": {
   "codemirror_mode": {
    "name": "ipython",
    "version": 3
   },
   "file_extension": ".py",
   "mimetype": "text/x-python",
   "name": "python",
   "nbconvert_exporter": "python",
   "pygments_lexer": "ipython3",
   "version": "3.10.0"
  }
 },
 "nbformat": 4,
 "nbformat_minor": 5
}
